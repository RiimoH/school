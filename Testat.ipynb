{
 "cells": [
  {
   "cell_type": "code",
   "execution_count": 1,
   "metadata": {},
   "outputs": [],
   "source": [
    "import csv"
   ]
  },
  {
   "cell_type": "code",
   "execution_count": 98,
   "metadata": {},
   "outputs": [],
   "source": [
    "class QuizRangliste(object):\n",
    "    def __init__(self, datei=None):\n",
    "        \"\"\"\n",
    "\n",
    "        \"\"\"\n",
    "        self._datei = datei\n",
    "        self._rangliste = {}\n",
    "\n",
    "        try:\n",
    "            with open(datei, 'r', encoding='utf-8') as f:\n",
    "                r = csv.reader(f, delimiter=',')\n",
    "                for row in r:\n",
    "                    try:\n",
    "                        self._rangliste[row[0]] = {'Punkte': int(row[1]), 'Zeit': float(row[2])}\n",
    "                    except IndexError:\n",
    "                        continue\n",
    "\n",
    "        except FileNotFoundError:\n",
    "            with open(datei, 'w', encoding='utf-8') as f:\n",
    "                print('New empty file created.')\n",
    "\n",
    "    def als_dictionary(self):\n",
    "        \"\"\"Returnt die Rangliste als Dictionary.\n",
    "        \n",
    "        Ausgabe:\n",
    "            Key = name, Value = {’Punkte’: punkte, ’Zeit’: zeit}\n",
    "        \n",
    "        Argumente:\n",
    "            -\n",
    "        \n",
    "        Elemente:\n",
    "            type(name) == str,\n",
    "            type(punkte) == int,\n",
    "            type(zeit) == float\n",
    "            \n",
    "        \"\"\"\n",
    "        return self._rangliste\n",
    "    \n",
    "    def als_liste(self):\n",
    "        \"\"\"Return die Rangliste als Liste.\n",
    "        \n",
    "        Ausgabe:\n",
    "            [(name, punkte, zeit), ...]\n",
    "        \n",
    "        Argumente:\n",
    "            -\n",
    "        \n",
    "        Elemente:\n",
    "            type(name) == str,\n",
    "            type(punkte) == int,\n",
    "            type(zeit) == float\n",
    "        \n",
    "        \"\"\"\n",
    "        output = []\n",
    "        for k, v in self._rangliste.items():\n",
    "            output.append((k, v['Punkte'], v['Zeit']))\n",
    "        return sorted(output, key=lambda x: (-x[1], x[2], x[0]))\n",
    "                \n",
    "            \n",
    "\n",
    "    def als_string(self):\n",
    "        \"\"\"Return die Rangliste als String.\n",
    "        \n",
    "        Ausgabe:\n",
    "            'name  | pkt |  zeit'\n",
    "        \n",
    "            Max   | 6 | 100.0\n",
    "            Anna  | 5 |  20.6\n",
    "            Laura | 5 |  20.6\n",
    "            Fritz | 5 |  39.3\n",
    "            Hans  | 2 |  45.2\n",
    "        \n",
    "        Argumente:\n",
    "            -\n",
    "        \n",
    "        Elemente:\n",
    "            type(name) == str,\n",
    "            type(punkte) == int,\n",
    "            type(zeit) == float\n",
    "        \n",
    "        \n",
    "        \"\"\"\n",
    "        name_max = max([len(x) for x in self._rangliste])\n",
    "        pkt_max = max([len(str(self._rangliste[x]['Punkte'])) for x in self._rangliste])\n",
    "        zeit_max = max([len(str(round(self._rangliste[x]['Zeit'], 1))) for x in self._rangliste])\n",
    "        output = []\n",
    "        \n",
    "        for k, v in self._rangliste.items():\n",
    "            intern = (k.ljust(name_max, ' ') +\n",
    "            ' | ' +\n",
    "            str(v['Punkte']).center(pkt_max, ' ') + \n",
    "            ' | ' +\n",
    "            str(round(v['Zeit'],1)).rjust(zeit_max, ' '))\n",
    "            output.append(intern)\n",
    "            \n",
    "        return '\\n'.join(output)\n",
    "    \n",
    "    def resultat_addieren(self, name, pkt, zeit):\n",
    "        \"\"\"Fügt ein Resultat der Rangliste hinzu.\n",
    "        \n",
    "        Falls ein der Name bereits vorhanden ist, werden die Resultate addiert.\n",
    "        Falls der Name nicht existiert, wird ein neuer Eintrag erstellt.\n",
    "        Der Name darf keine Kommas enthalten\n",
    "        \n",
    "        Argumente:\n",
    "            name -- Name der Person, type = string\n",
    "            pkt  -- Erzielte Punkte, type = int, str\n",
    "            zeit -- Benötigte Zeit,  type = float, str\n",
    "            \n",
    "        \"\"\"\n",
    "        try:\n",
    "            name = str(name)\n",
    "            pkt = int(pkt)\n",
    "            zeit = float(zeit)\n",
    "        except ValueError:\n",
    "            print('ValueError: Please enter correct types.')\n",
    "            return False\n",
    "        \n",
    "        if name in self._rangliste:\n",
    "            self._rangliste[name]['Punkte'] += int(pkt)\n",
    "            self._rangliste[name]['Zeit'] += float(zeit)\n",
    "            print(f'{name} wurde um Pkt: {pkt} und Zeit: {zeit} ergänzt.')\n",
    "        else:\n",
    "            self._rangliste[name] = {'Punkte': pkt, 'Zeit': zeit}\n",
    "            print(f'Rangliste wurde um {name} ergänzt.')\n",
    "        \n",
    "        return True\n",
    "\n",
    "    \n",
    "    def name_entfernen(self, name):\n",
    "        \"\"\"Entfernt einen Eintrag.\n",
    "        \n",
    "        Argumente:\n",
    "            name -- Name der Person, type = string\n",
    "        \n",
    "        \"\"\"\n",
    "        try:\n",
    "            del self._rangliste[name]\n",
    "            print(f'{name} wurde entfernt.')\n",
    "        except KeyError:\n",
    "            print(\"Zu diesem Namen existiert kein Eintrag. Does nothing.\")\n",
    "\n",
    "\n",
    "    def speichern(self, als=None):\n",
    "        \"\"\"Speichert die Rangliste als csv-Datei.\n",
    "        \n",
    "        Argumente:\n",
    "            als (opt) -- Pfad zu neuer Datei, ansonsten wird alte Datei überschrieben. type = string\n",
    "         \n",
    "        \"\"\"\n",
    "        if als == None:\n",
    "            als = self._datei\n",
    "        with open(als, 'w', encoding='utf-8') as f:\n",
    "            writer = csv.writer(f, delimiter=',')\n",
    "            li = self.als_liste()\n",
    "            for line in li:\n",
    "                writer.writerow(line)"
   ]
  },
  {
   "cell_type": "code",
   "execution_count": 99,
   "metadata": {},
   "outputs": [],
   "source": [
    "qr = QuizRangliste(datei='rangliste.txt')"
   ]
  },
  {
   "cell_type": "code",
   "execution_count": 69,
   "metadata": {},
   "outputs": [
    {
     "name": "stdout",
     "output_type": "stream",
     "text": [
      "Abdul wurde um Pkt: 8 und Zeit: 32.0 ergänzt.\n"
     ]
    },
    {
     "data": {
      "text/plain": [
       "True"
      ]
     },
     "execution_count": 69,
     "metadata": {},
     "output_type": "execute_result"
    }
   ],
   "source": [
    "qr.resultat_addieren('Abdul', 8, 32.0)"
   ]
  },
  {
   "cell_type": "code",
   "execution_count": 52,
   "metadata": {},
   "outputs": [
    {
     "name": "stdout",
     "output_type": "stream",
     "text": [
      "Peter wurde entfernt.\n"
     ]
    }
   ],
   "source": [
    "qr.name_entfernen('Peter')"
   ]
  },
  {
   "cell_type": "code",
   "execution_count": 57,
   "metadata": {},
   "outputs": [],
   "source": [
    "qr.speichern(path='resultat.txt')"
   ]
  },
  {
   "cell_type": "code",
   "execution_count": 79,
   "metadata": {
    "scrolled": true
   },
   "outputs": [
    {
     "data": {
      "text/plain": [
       "{'Noemi': {'Punkte': 7, 'Zeit': 40.0},\n",
       " 'Max': {'Punkte': 6, 'Zeit': 100.02},\n",
       " 'Anna': {'Punkte': 5, 'Zeit': 20.55},\n",
       " 'Laura': {'Punkte': 5, 'Zeit': 20.55},\n",
       " 'Fritz': {'Punkte': 5, 'Zeit': 39.3},\n",
       " 'Hans': {'Punkte': 2, 'Zeit': 45.24}}"
      ]
     },
     "execution_count": 79,
     "metadata": {},
     "output_type": "execute_result"
    }
   ],
   "source": [
    "qr._rangliste"
   ]
  },
  {
   "cell_type": "code",
   "execution_count": 80,
   "metadata": {
    "scrolled": true
   },
   "outputs": [
    {
     "data": {
      "text/plain": [
       "[('Noemi', 7, 40.0),\n",
       " ('Max', 6, 100.02),\n",
       " ('Anna', 5, 20.55),\n",
       " ('Laura', 5, 20.55),\n",
       " ('Fritz', 5, 39.3),\n",
       " ('Hans', 2, 45.24)]"
      ]
     },
     "execution_count": 80,
     "metadata": {},
     "output_type": "execute_result"
    }
   ],
   "source": [
    "qr.als_liste()"
   ]
  },
  {
   "cell_type": "code",
   "execution_count": 100,
   "metadata": {
    "scrolled": true
   },
   "outputs": [
    {
     "name": "stdout",
     "output_type": "stream",
     "text": [
      "Noemi | 7 |  40.0\n",
      "Max   | 6 | 100.0\n",
      "Anna  | 5 |  20.6\n",
      "Laura | 5 |  20.6\n",
      "Fritz | 5 |  39.3\n",
      "Hans  | 2 |  45.2\n"
     ]
    }
   ],
   "source": [
    "print(qr.als_string())"
   ]
  },
  {
   "cell_type": "code",
   "execution_count": null,
   "metadata": {},
   "outputs": [],
   "source": []
  }
 ],
 "metadata": {
  "kernelspec": {
   "display_name": "Python 3",
   "language": "python",
   "name": "python3"
  },
  "language_info": {
   "codemirror_mode": {
    "name": "ipython",
    "version": 3
   },
   "file_extension": ".py",
   "mimetype": "text/x-python",
   "name": "python",
   "nbconvert_exporter": "python",
   "pygments_lexer": "ipython3",
   "version": "3.7.1"
  }
 },
 "nbformat": 4,
 "nbformat_minor": 2
}
